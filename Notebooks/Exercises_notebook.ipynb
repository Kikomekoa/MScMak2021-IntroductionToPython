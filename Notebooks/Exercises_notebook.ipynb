{
 "cells": [
  {
   "cell_type": "markdown",
   "metadata": {},
   "source": [
    "<small><small><i>\n",
    "Introduction to Python for Bioinformatics - available at https://github.com/GunzIvan28/MScMak2021-IntroductionToPython.\n",
    "</i></small></small>"
   ]
  },
  {
   "cell_type": "markdown",
   "metadata": {},
   "source": [
    "# Strings"
   ]
  },
  {
   "cell_type": "markdown",
   "metadata": {},
   "source": [
    "## Exercise 1\n",
    "1. Given trna='AAGGGCTTAGCTTAATTAAAGTGGCTGATTTGCGTTCAGTTGATGCAGAGTGGGGTTTTGCAGTCCTTA', Calculate the % GC and % AT content in the trna sequence   \n",
    "- A_count=trna.count('A')   \n",
    "- C_count=trna.count('C')   \n",
    "- G_count=trna.count('G')   \n",
    "- T_count=trna.count('T')"
   ]
  },
  {
   "cell_type": "code",
   "execution_count": null,
   "metadata": {},
   "outputs": [],
   "source": []
  },
  {
   "cell_type": "markdown",
   "metadata": {},
   "source": [
    "## Exercise 2\n",
    "1. Given the following amino acid sequence (MNKMDLVADVAEKTDLSKAKATEVIDAVFA), find the first, last and the 5th amino acids in the sequence. \n",
    "2. The above amino acid is a bacterial restriction enzyme that recognizes \"TCCGGA\". Find the first restriction site in the following sequence: AAAAATCCCGAGGCGGCTATATAGGGCTCCGGAGGCGTAATATAAAA"
   ]
  },
  {
   "cell_type": "markdown",
   "metadata": {},
   "source": [
    "## Exercise 3\n",
    "Given the DNA sequence CGCCTAAATAGCCTCGCGGAGCCTTATGTCATACTCGTCCT find the k-mer(3-mer) with the highest frequency"
   ]
  },
  {
   "cell_type": "code",
   "execution_count": null,
   "metadata": {},
   "outputs": [],
   "source": []
  },
  {
   "cell_type": "markdown",
   "metadata": {},
   "source": [
    "# While Loops, for loops, if-else-if, break, functions"
   ]
  },
  {
   "cell_type": "markdown",
   "metadata": {},
   "source": [
    "## Exercise 4\n",
    "\n",
    "1. Create a while loop that starts with x = 0 and increments x until x is equal to 5. Each iteration should print to the console.\n",
    "2. Repeat the previous problem, but the loop will skip printing x = 5 to the console but will print values of x from 6 to 10.\n",
    "3. Create a for loop that prints values from 4 to 10 to the console."
   ]
  },
  {
   "cell_type": "code",
   "execution_count": null,
   "metadata": {},
   "outputs": [],
   "source": []
  },
  {
   "cell_type": "markdown",
   "metadata": {},
   "source": [
    " ## Exercise 5\n",
    " \n",
    " Write a function `areatriangle(b,h)` to compute the area of a triangle: formula is area = .5*b*h. Output should look like: The area of a triangle of base 3 and height 5 is 7.5"
   ]
  },
  {
   "cell_type": "code",
   "execution_count": null,
   "metadata": {},
   "outputs": [],
   "source": []
  },
  {
   "cell_type": "markdown",
   "metadata": {},
   "source": [
    "## Exercise 6\n",
    "Write a function `def celsius_to_fahrenheit(temp)` to convert Celsius to Fahrentheit temperature. The formula is (9/5) times temp plus 32. Print the output in the form:  \n",
    "`The Celsius temperature 50.0 is equivalent to 122.0 degrees Fahrenheit.`"
   ]
  },
  {
   "cell_type": "code",
   "execution_count": null,
   "metadata": {},
   "outputs": [],
   "source": []
  },
  {
   "cell_type": "markdown",
   "metadata": {},
   "source": [
    "## Exercise 7\n",
    "Create a function that prompts the user for their first and last name. The function written should include the city and state.\n",
    "That is, ask two more questions to get the city and the state you live in. Print where you are from on a new line. Put the customary comma between\n",
    "city and state. to save time, here is the starting function. Your run should look like the following:  \n",
    "\n",
    "```Enter your first name: Ivan\n",
    "\n",
    "Enter your last name: Lloyd\n",
    "\n",
    "Enter the city you live in: Kampala\n",
    "\n",
    "Enter the state you live in: Central\n",
    "\n",
    "Your name is: Ivan Lloyd\n",
    "You live in:  Kampala, Central \n"
   ]
  },
  {
   "cell_type": "code",
   "execution_count": null,
   "metadata": {},
   "outputs": [],
   "source": []
  },
  {
   "cell_type": "markdown",
   "metadata": {},
   "source": [
    "## Exercise 8\n",
    "Write a function count_down() that starts at 10 and counts down to rocket launch. It's output should be:  \n",
    "`10 9 8 7 6 5 4 3 2 1 BLASTOFF!`  \n",
    "\n",
    "You can make all the numbers on the same line or different lines. Use a while loop."
   ]
  },
  {
   "cell_type": "code",
   "execution_count": null,
   "metadata": {},
   "outputs": [],
   "source": []
  },
  {
   "cell_type": "markdown",
   "metadata": {},
   "source": [
    "## Exercise 9\n",
    "Write a function `sum_prod(x,y)` that prints the sum and product of the numbers x and y on separate lines, the sum printing first."
   ]
  },
  {
   "cell_type": "code",
   "execution_count": null,
   "metadata": {},
   "outputs": [],
   "source": []
  },
  {
   "cell_type": "markdown",
   "metadata": {},
   "source": [
    "## Exercise 10\n",
    "Write a function `steps(n)` that adds up the numbers 1 through n and prints out the result. You should use either a 'while' loop or a 'for' loop. Be sure that you check your answer on several numbers n.  Be careful that your loop steps through all the numbers from 1 through and including n.\n"
   ]
  },
  {
   "cell_type": "code",
   "execution_count": null,
   "metadata": {},
   "outputs": [],
   "source": []
  },
  {
   "cell_type": "markdown",
   "metadata": {},
   "source": [
    "## Exercise 11\n",
    "Write a function `conv(miles)` to convert miles to feet. There are 5280 feet in each mile. Make the print out a statement as follows:  \n",
    "`There are 10560 feet in 2 miles.`  Except for the numbers, this statement should be exactly as written.\n"
   ]
  },
  {
   "cell_type": "code",
   "execution_count": null,
   "metadata": {},
   "outputs": [],
   "source": []
  },
  {
   "cell_type": "markdown",
   "metadata": {},
   "source": [
    "## Exercise 12\n",
    "Write a function `drinks(age)`. This function should use an `if-elif-else` statement to print out:  \n",
    "\n",
    "`Have a glass of milk.` for anyone under 7; \n",
    "\n",
    "`Have a coke.` for anyone under 21, and \n",
    "\n",
    "`Have a martini.` for anyone 21 or older.  \n",
    "\n",
    "Tip: Be careful about the ages 7 (a seven year old is not under 7) and 21. Also be careful to make the phrases exactly as shown.\n",
    "Test the runs (3 of them). Note that the test for the function output will use different numbers:\n",
    "\n",
    "`drinks(5)\n",
    "Have a glass of milk.`\n",
    "\n",
    "`drinks(10)\n",
    "Have a coke.`\n",
    "\n",
    "`drinks(25)\n",
    "Have a martini.`\n"
   ]
  },
  {
   "cell_type": "code",
   "execution_count": null,
   "metadata": {},
   "outputs": [],
   "source": []
  },
  {
   "cell_type": "markdown",
   "metadata": {},
   "source": [
    "## Exercise 13\n",
    "Write a function `odd_nums()` that prints the odd numbers from 1 through 100. Make all of these numbers appear on the same line (actually, when the line fills up it will wrap around, but ignore that.). In order to do this, your print statement should have end=\" \" in it. For example, `print(name,end=\" \")` will keep the next print statement from starting a new line. Be sure there is a space between these quotes or your numbers will run together. Use a single space as that is what the testing program expects. Use a 'for' loop and the `range()` function.  \n",
    "\n",
    "Things to be careful of that might go wrong: \n",
    "You print too many numbers, you put too much or too little space between them, you print each number on its own line, you print even numbers or all numbers, your first number isn't 1 or your last number isn't 99.  \n",
    "Always check first and last outputs when you write a loop.\n",
    "\n",
    "Test run (I've inserted a newline here to cause wrapping in the editor):\n",
    "\n",
    "```odd_nums()\n",
    "1 3 5 7 9 11 13 15 17 19 21 23 25 27 29 31 33 35 37 39 41 43 45 47 49 51 53 55 \n",
    "57 59 61 63 65 67 69 71 73 75 77 79 81 83 85 87 89 91 93 95 97 99"
   ]
  },
  {
   "cell_type": "code",
   "execution_count": null,
   "metadata": {},
   "outputs": [],
   "source": []
  },
  {
   "cell_type": "markdown",
   "metadata": {},
   "source": [
    "## Exercise 14\n",
    "Write a function `trapez()` that computes the area of a trapezoid. Here is the formula: `A = (1/2)(b1+b2)h`. In the formula b1 is the length of one of the bases, b2 the other. The height is h and the area is A. Basically, this takes the average of the two bases times the height. For a rectangle b1 = b2, so this reduces to b1*h. This means that you can do a pretty good test of the correctness of your function using a rectangle (that way you can compute the answer in your head). Use input statements to ask for the bases and the height.\n",
    "Convert these input strings to real numbers using `float()`. Print the output nicely EXACTLY like mine below.\n",
    "\n",
    "Tip: Be careful that your output on the test case below is exactly as shown so that the testing function judges your output correctly.  The testing function does not look at your input statements, so you don't have to use my input prompts if you don't want to. However, testing function will enter the three inputs in the order shown. See the other test run below.\n",
    "\n",
    "trapez()\n",
    "\n",
    "Enter the length of one of the bases: 3\n",
    "\n",
    "Enter the length of the other base: 4\n",
    "\n",
    "Enter the height: 8\n",
    "\n",
    "`The area of a trapezoid with bases 3.0 and 4.0 and height 8.0 is 28.0`\n",
    "\n",
    "\n",
    "Another test run. In grading, expect different input numbers to be used.\n",
    "\n",
    "trapez()\n",
    "\n",
    "Enter the length of one of the bases: 10\n",
    "\n",
    "Enter the length of the other base: 11\n",
    "\n",
    "Enter the height: 12\n",
    "\n",
    "`The area of a trapezoid with bases 10.0 and 11.0 and height 12.0 is 126.0`\n"
   ]
  },
  {
   "cell_type": "code",
   "execution_count": null,
   "metadata": {},
   "outputs": [],
   "source": []
  },
  {
   "cell_type": "markdown",
   "metadata": {},
   "source": [
    "## Exercise 15\n",
    "Write a function diner_waitress() that asks for you order. First start an empty list, call it order. Then use a `while loop and an input()` statement to gather the order. Continue in the while loop until the customer says `that's all`. One way to end the loop is to use `break` to break out of the loop when `that's all` is entered. Recall that you can add to a list by using the list's .append() method; suppose that your list is called order. You are going to have to input one food at a time and append it to the order list. Then print out the order. Here is my run:  \n",
    "\n",
    "diner_waitress()\n",
    "\n",
    "```Hello, I'll be your waitress. What will you have?\n",
    "\n",
    "menu item: eggs\n",
    "\n",
    "menu item: bacon\n",
    "\n",
    "menu item: toast\n",
    "\n",
    "menu item: jelly\n",
    "\n",
    "menu item: that's all\n",
    "You've ordered:\n",
    "['eggs', 'bacon', 'toast', 'jelly']\n"
   ]
  },
  {
   "cell_type": "code",
   "execution_count": null,
   "metadata": {},
   "outputs": [],
   "source": []
  },
  {
   "cell_type": "markdown",
   "metadata": {},
   "source": [
    "# Lists, randoms, seeds, floats"
   ]
  },
  {
   "cell_type": "markdown",
   "metadata": {},
   "source": [
    "## Exercise 16\n",
    "Write a function 'runner()' that sets a variable lis = list(range(20,30)) and does all of the following, each on a separate line: \n",
    "\n",
    "(a) print the element of lis with the index 3\n",
    "(b) print lis itself\n",
    "(c) write a 'for' loop that prints out every element of lis. Recall that len() will give you the length of such a data collection if you need that. Use end=\" \" to put one space between the elements of the list lis.  Allow the extra space at the end of the list to stand, don't make a special case of it.\n",
    "    \n",
    "Test run:\n",
    "\n",
    "runner()\n",
    "\n",
    "```23\n",
    "[20, 21, 22, 23, 24, 25, 26, 27, 28, 29]\n",
    "20 21 22 23 24 25 26 27 28 29 "
   ]
  },
  {
   "cell_type": "code",
   "execution_count": null,
   "metadata": {},
   "outputs": [],
   "source": []
  },
  {
   "cell_type": "markdown",
   "metadata": {},
   "source": [
    "## Exercise 17\n",
    "Let's do a small simulation. Suppose that you rolled a die repeatedly. Each time that you roll the die you get a integer from 1 to 6, the number of pips on the die. Use random.randint(a,b) to simulate rolling a die 10 times and printout the 10 outcomes. The function random.randint(a,b) will generate an integer (whole number) between the integers a and b inclusive. Remember each outcome is 1, 2, 3, 4, 5, or 6, so make sure that you can get all of these outcomes and none other. Print the list, one item to a line so that there are 10 lines as in the example run.  Make sure that it has 10 items and they are all in the range 1 through 6.  Here is one of my runs. In the problem below I ask you to set the seed to 171 for the benefit of the reproducibility. In this example, that wasn't done and so your numbers will be different.  Note that the seed must be set BEFORE randint is used.\n",
    "\n",
    "\n",
    "dice()\n",
    "\n",
    "```4\n",
    "5\n",
    "3\n",
    "1\n",
    "4\n",
    "3\n",
    "5\n",
    "1\n",
    "6\n",
    "3\n"
   ]
  },
  {
   "cell_type": "code",
   "execution_count": null,
   "metadata": {},
   "outputs": [],
   "source": []
  },
  {
   "cell_type": "markdown",
   "metadata": {},
   "source": [
    "## Exercise 18\n",
    "Heron's formula for computing the area of a triangle with sides a, b, and c is as follows. Let `s = .5(a + b + c)` --- that is, 1/2 of the perimeter of the triangle. Then the area is the square root of `s(s-a)(s-b)(s-c)`. You can compute the square root of x by `x**.5` (raise x to the 1/2 power). Use an input statement to get the length of the sides. Don't forget to convert this input to a real number using float(). Adjust your output to be just like what yousee below. Here is a run of my program:\n",
    "\n",
    "heron()\n",
    "\n",
    "```Enter length of side one: 9\n",
    "\n",
    "Enter length of side two: 12\n",
    "\n",
    "Enter length of side three: 15\n",
    "\n",
    "Area of a triangle with sides 9.0 12.0 15.0 is 54.0"
   ]
  },
  {
   "cell_type": "code",
   "execution_count": null,
   "metadata": {},
   "outputs": [],
   "source": []
  },
  {
   "cell_type": "markdown",
   "metadata": {},
   "source": [
    "## Exercise 19\n",
    "The following list gives the hourly temperature during a 24 hour day. Write a function, that will take such a list and compute 3 things: average temperature, high (maximum temperature), and low (minimum temperature) for the day.  I will test with a different set of temperatures, so don't pick out the low or the high and code it into your program. This should work for other hourly_temp lists as well. This can be done by looping (iterating) through the list. I suggest you not write it all at once. You might write a function that computes just one of these, say average, then improve it to handle another, say maximum, etc. Sample run using the list hourly_temp. \n",
    "\n",
    "Note that the testing function will use a different hourly list.  Be sure that you function works on this list and test it on at least one other list of your own construction. Note also, that the list the grader uses may not have the same number of items as this one.\n",
    "\n",
    "\n",
    "hourly_temp  = [40.0, 39.0, 37.0, 34.0, 33.0, 34.0, 36.0, 37.0, 38.0, 39.0, \\\n",
    "               40.0, 41.0, 44.0, 45.0, 47.0, 48.0, 45.0, 42.0, 39.0, 37.0, \\\n",
    "               36.0, 35.0, 33.0, 32.0]\n",
    "\n",
    "\n",
    "weather(hourly_temp)\n",
    "```\n",
    "Average: 38.791666666666664\n",
    "High: 48.0\n",
    "Low: 32.0\n",
    "\n",
    "hourly_temp  = [40.0, 39.0, 37.0, 34.0, 33.0, 34.0, 36.0, 37.0, 38.0, 39.0, \\\n",
    "               40.0, 41.0, 44.0, 45.0, 47.0, 48.0, 45.0, 42.0, 39.0, 37.0, \\\n",
    "               36.0, 35.0, 33.0, 32.0]`"
   ]
  },
  {
   "cell_type": "code",
   "execution_count": null,
   "metadata": {},
   "outputs": [],
   "source": []
  },
  {
   "cell_type": "markdown",
   "metadata": {},
   "source": [
    "## Exercise 20\n",
    "Write a function that will convert a date from one format to another. Specifically, 06/10/2016 should convert to June 17, 2016.  Actually, you will input the 6, the 17, and the 2016 as separate integers (numbers) and the function will assemble and print the date as June 17, 2016.  I suggest that you create a tuple months = (\"January\", \"February\", \"March\", ...) to store the names of the months.  Then it is easy to access the name February as months[1] and so on.\n",
    "\n",
    "Here is printout of my run.\n",
    "\n",
    "calen(6,17,2016)\n",
    "\n",
    "`June 17, 2016`\n"
   ]
  },
  {
   "cell_type": "code",
   "execution_count": null,
   "metadata": {},
   "outputs": [],
   "source": []
  },
  {
   "cell_type": "markdown",
   "metadata": {},
   "source": [
    "# Dictionaries, turples, sets"
   ]
  },
  {
   "cell_type": "code",
   "execution_count": null,
   "metadata": {},
   "outputs": [],
   "source": []
  },
  {
   "cell_type": "markdown",
   "metadata": {},
   "source": [
    "# Reading, writing, and manipulation of text files (Empasis on csv files)"
   ]
  },
  {
   "cell_type": "code",
   "execution_count": null,
   "metadata": {},
   "outputs": [],
   "source": []
  },
  {
   "cell_type": "markdown",
   "metadata": {},
   "source": [
    "# Running stand-alone scripts or programs"
   ]
  },
  {
   "cell_type": "code",
   "execution_count": null,
   "metadata": {},
   "outputs": [],
   "source": []
  }
 ],
 "metadata": {
  "interpreter": {
   "hash": "b45237acfcc36b69de2b458f4c47ea554ee17b0224bade2ed26aaf59922cf010"
  },
  "kernelspec": {
   "display_name": "Python 3.8.3 64-bit ('base': conda)",
   "name": "python3"
  },
  "language_info": {
   "name": "python",
   "version": "3.8.3"
  },
  "orig_nbformat": 4
 },
 "nbformat": 4,
 "nbformat_minor": 2
}
